{
 "cells": [
  {
   "cell_type": "markdown",
   "id": "2b9bc3a7",
   "metadata": {
    "papermill": {
     "duration": 0.004621,
     "end_time": "2025-10-03T09:14:40.661056",
     "exception": false,
     "start_time": "2025-10-03T09:14:40.656435",
     "status": "completed"
    },
    "tags": []
   },
   "source": [
    "**This notebook is an exercise in the [Data Cleaning](https://www.kaggle.com/learn/data-cleaning) course.  You can reference the tutorial at [this link](https://www.kaggle.com/alexisbcook/character-encodings).**\n",
    "\n",
    "---\n"
   ]
  },
  {
   "cell_type": "markdown",
   "id": "07669272",
   "metadata": {
    "papermill": {
     "duration": 0.003377,
     "end_time": "2025-10-03T09:14:40.668407",
     "exception": false,
     "start_time": "2025-10-03T09:14:40.665030",
     "status": "completed"
    },
    "tags": []
   },
   "source": [
    "In this exercise, you'll apply what you learned in the **Character encodings** tutorial.\n",
    "\n",
    "# Setup\n",
    "\n",
    "The questions below will give you feedback on your work. Run the following cell to set up the feedback system."
   ]
  },
  {
   "cell_type": "code",
   "execution_count": 1,
   "id": "30b9e28b",
   "metadata": {
    "execution": {
     "iopub.execute_input": "2025-10-03T09:14:40.677484Z",
     "iopub.status.busy": "2025-10-03T09:14:40.677105Z",
     "iopub.status.idle": "2025-10-03T09:14:43.082475Z",
     "shell.execute_reply": "2025-10-03T09:14:43.081428Z"
    },
    "papermill": {
     "duration": 2.411977,
     "end_time": "2025-10-03T09:14:43.084183",
     "exception": false,
     "start_time": "2025-10-03T09:14:40.672206",
     "status": "completed"
    },
    "tags": []
   },
   "outputs": [
    {
     "name": "stdout",
     "output_type": "stream",
     "text": [
      "Setup Complete\n"
     ]
    }
   ],
   "source": [
    "from learntools.core import binder\n",
    "binder.bind(globals())\n",
    "from learntools.data_cleaning.ex4 import *\n",
    "print(\"Setup Complete\")"
   ]
  },
  {
   "cell_type": "markdown",
   "id": "822ae61e",
   "metadata": {
    "papermill": {
     "duration": 0.003094,
     "end_time": "2025-10-03T09:14:43.091221",
     "exception": false,
     "start_time": "2025-10-03T09:14:43.088127",
     "status": "completed"
    },
    "tags": []
   },
   "source": [
    "# Get our environment set up\n",
    "\n",
    "The first thing we'll need to do is load in the libraries we'll be using."
   ]
  },
  {
   "cell_type": "code",
   "execution_count": 2,
   "id": "a4345e2c",
   "metadata": {
    "execution": {
     "iopub.execute_input": "2025-10-03T09:14:43.100237Z",
     "iopub.status.busy": "2025-10-03T09:14:43.099769Z",
     "iopub.status.idle": "2025-10-03T09:14:43.104824Z",
     "shell.execute_reply": "2025-10-03T09:14:43.103924Z"
    },
    "papermill": {
     "duration": 0.011261,
     "end_time": "2025-10-03T09:14:43.106370",
     "exception": false,
     "start_time": "2025-10-03T09:14:43.095109",
     "status": "completed"
    },
    "tags": []
   },
   "outputs": [],
   "source": [
    "# modules we'll use\n",
    "import pandas as pd\n",
    "import numpy as np\n",
    "\n",
    "# helpful character encoding module\n",
    "import charset_normalizer\n",
    "\n",
    "# set seed for reproducibility\n",
    "np.random.seed(0)"
   ]
  },
  {
   "cell_type": "markdown",
   "id": "15720070",
   "metadata": {
    "papermill": {
     "duration": 0.003225,
     "end_time": "2025-10-03T09:14:43.113166",
     "exception": false,
     "start_time": "2025-10-03T09:14:43.109941",
     "status": "completed"
    },
    "tags": []
   },
   "source": [
    "# 1) What are encodings?\n",
    "\n",
    "You're working with a dataset composed of bytes.  Run the code cell below to print a sample entry."
   ]
  },
  {
   "cell_type": "code",
   "execution_count": 3,
   "id": "4ef02cea",
   "metadata": {
    "execution": {
     "iopub.execute_input": "2025-10-03T09:14:43.121274Z",
     "iopub.status.busy": "2025-10-03T09:14:43.120893Z",
     "iopub.status.idle": "2025-10-03T09:14:43.125952Z",
     "shell.execute_reply": "2025-10-03T09:14:43.125082Z"
    },
    "papermill": {
     "duration": 0.01075,
     "end_time": "2025-10-03T09:14:43.127345",
     "exception": false,
     "start_time": "2025-10-03T09:14:43.116595",
     "status": "completed"
    },
    "tags": []
   },
   "outputs": [
    {
     "name": "stdout",
     "output_type": "stream",
     "text": [
      "b'\\xa7A\\xa6n'\n",
      "data type: <class 'bytes'>\n"
     ]
    }
   ],
   "source": [
    "sample_entry = b'\\xa7A\\xa6n'\n",
    "print(sample_entry)\n",
    "print('data type:', type(sample_entry))"
   ]
  },
  {
   "cell_type": "markdown",
   "id": "be13c766",
   "metadata": {
    "papermill": {
     "duration": 0.003306,
     "end_time": "2025-10-03T09:14:43.134163",
     "exception": false,
     "start_time": "2025-10-03T09:14:43.130857",
     "status": "completed"
    },
    "tags": []
   },
   "source": [
    "You notice that it doesn't use the standard UTF-8 encoding. \n",
    "\n",
    "Use the next code cell to create a variable `new_entry` that changes the encoding from `\"big5-tw\"` to `\"utf-8\"`.  `new_entry` should have the bytes datatype."
   ]
  },
  {
   "cell_type": "code",
   "execution_count": 4,
   "id": "63b79ae6",
   "metadata": {
    "execution": {
     "iopub.execute_input": "2025-10-03T09:14:43.142520Z",
     "iopub.status.busy": "2025-10-03T09:14:43.142219Z",
     "iopub.status.idle": "2025-10-03T09:14:43.150694Z",
     "shell.execute_reply": "2025-10-03T09:14:43.149727Z"
    },
    "papermill": {
     "duration": 0.014381,
     "end_time": "2025-10-03T09:14:43.152145",
     "exception": false,
     "start_time": "2025-10-03T09:14:43.137764",
     "status": "completed"
    },
    "tags": []
   },
   "outputs": [
    {
     "data": {
      "application/javascript": [
       "parent.postMessage({\"jupyterEvent\": \"custom.exercise_interaction\", \"data\": {\"outcomeType\": 1, \"valueTowardsCompletion\": 0.3333333333333333, \"interactionType\": 1, \"questionType\": 1, \"questionId\": \"1_EncodingsIntro\", \"learnToolsVersion\": \"0.3.5\", \"failureMessage\": \"\", \"exceptionClass\": \"\", \"trace\": \"\"}}, \"*\")"
      ],
      "text/plain": [
       "<IPython.core.display.Javascript object>"
      ]
     },
     "metadata": {},
     "output_type": "display_data"
    },
    {
     "data": {
      "text/markdown": [
       "<span style=\"color:#33cc33\">Correct</span>"
      ],
      "text/plain": [
       "Correct"
      ]
     },
     "metadata": {},
     "output_type": "display_data"
    }
   ],
   "source": [
    "entry = sample_entry.decode(\"big5-tw\", errors='replace')\n",
    "new_entry = entry.encode(\"utf-8\", errors='replace')\n",
    "# Check your answer\n",
    "q1.check()"
   ]
  },
  {
   "cell_type": "code",
   "execution_count": 5,
   "id": "bb5c90ad",
   "metadata": {
    "execution": {
     "iopub.execute_input": "2025-10-03T09:14:43.161319Z",
     "iopub.status.busy": "2025-10-03T09:14:43.160949Z",
     "iopub.status.idle": "2025-10-03T09:14:43.167762Z",
     "shell.execute_reply": "2025-10-03T09:14:43.167050Z"
    },
    "papermill": {
     "duration": 0.012808,
     "end_time": "2025-10-03T09:14:43.169177",
     "exception": false,
     "start_time": "2025-10-03T09:14:43.156369",
     "status": "completed"
    },
    "tags": []
   },
   "outputs": [
    {
     "data": {
      "application/javascript": [
       "parent.postMessage({\"jupyterEvent\": \"custom.exercise_interaction\", \"data\": {\"interactionType\": 2, \"questionType\": 1, \"questionId\": \"1_EncodingsIntro\", \"learnToolsVersion\": \"0.3.5\", \"valueTowardsCompletion\": 0.0, \"failureMessage\": \"\", \"exceptionClass\": \"\", \"trace\": \"\", \"outcomeType\": 4}}, \"*\")"
      ],
      "text/plain": [
       "<IPython.core.display.Javascript object>"
      ]
     },
     "metadata": {},
     "output_type": "display_data"
    },
    {
     "data": {
      "text/markdown": [
       "<span style=\"color:#3366cc\">Hint:</span> Try using `.decode()` to get the string, then `.encode()` to get the bytes representation, encoded in UTF-8."
      ],
      "text/plain": [
       "Hint: Try using `.decode()` to get the string, then `.encode()` to get the bytes representation, encoded in UTF-8."
      ]
     },
     "metadata": {},
     "output_type": "display_data"
    }
   ],
   "source": [
    "# Lines below will give you a hint or solution code\n",
    "q1.hint()\n",
    "#q1.solution()"
   ]
  },
  {
   "cell_type": "markdown",
   "id": "af781e7f",
   "metadata": {
    "papermill": {
     "duration": 0.003569,
     "end_time": "2025-10-03T09:14:43.177611",
     "exception": false,
     "start_time": "2025-10-03T09:14:43.174042",
     "status": "completed"
    },
    "tags": []
   },
   "source": [
    "# 2) Reading in files with encoding problems\n",
    "\n",
    "Use the code cell below to read in this file at path `\"../input/fatal-police-shootings-in-the-us/PoliceKillingsUS.csv\"`.  \n",
    "\n",
    "Figure out what the correct encoding should be and read in the file to a DataFrame `police_killings`."
   ]
  },
  {
   "cell_type": "code",
   "execution_count": 6,
   "id": "f8302925",
   "metadata": {
    "execution": {
     "iopub.execute_input": "2025-10-03T09:14:43.186831Z",
     "iopub.status.busy": "2025-10-03T09:14:43.186517Z",
     "iopub.status.idle": "2025-10-03T09:14:43.213363Z",
     "shell.execute_reply": "2025-10-03T09:14:43.212443Z"
    },
    "papermill": {
     "duration": 0.033486,
     "end_time": "2025-10-03T09:14:43.214839",
     "exception": false,
     "start_time": "2025-10-03T09:14:43.181353",
     "status": "completed"
    },
    "tags": []
   },
   "outputs": [
    {
     "data": {
      "application/javascript": [
       "parent.postMessage({\"jupyterEvent\": \"custom.exercise_interaction\", \"data\": {\"outcomeType\": 1, \"valueTowardsCompletion\": 0.3333333333333333, \"interactionType\": 1, \"questionType\": 1, \"questionId\": \"2_ReadIn\", \"learnToolsVersion\": \"0.3.5\", \"failureMessage\": \"\", \"exceptionClass\": \"\", \"trace\": \"\"}}, \"*\")"
      ],
      "text/plain": [
       "<IPython.core.display.Javascript object>"
      ]
     },
     "metadata": {},
     "output_type": "display_data"
    },
    {
     "data": {
      "text/markdown": [
       "<span style=\"color:#33cc33\">Correct</span>"
      ],
      "text/plain": [
       "Correct"
      ]
     },
     "metadata": {},
     "output_type": "display_data"
    }
   ],
   "source": [
    "# TODO: Load in the DataFrame correctly.\n",
    "police_killings = pd.read_csv(\"../input/fatal-police-shootings-in-the-us/PoliceKillingsUS.csv\", encoding='windows-1250')\n",
    "\n",
    "# Check your answer\n",
    "q2.check()"
   ]
  },
  {
   "cell_type": "markdown",
   "id": "99108fbf",
   "metadata": {
    "papermill": {
     "duration": 0.004211,
     "end_time": "2025-10-03T09:14:43.223194",
     "exception": false,
     "start_time": "2025-10-03T09:14:43.218983",
     "status": "completed"
    },
    "tags": []
   },
   "source": [
    "Feel free to use any additional code cells for supplemental work.  To get credit for finishing this question, you'll need to run `q2.check()` and get a result of **Correct**."
   ]
  },
  {
   "cell_type": "code",
   "execution_count": 7,
   "id": "14614811",
   "metadata": {
    "execution": {
     "iopub.execute_input": "2025-10-03T09:14:43.232668Z",
     "iopub.status.busy": "2025-10-03T09:14:43.231972Z",
     "iopub.status.idle": "2025-10-03T09:14:43.698593Z",
     "shell.execute_reply": "2025-10-03T09:14:43.697430Z"
    },
    "papermill": {
     "duration": 0.472934,
     "end_time": "2025-10-03T09:14:43.700121",
     "exception": false,
     "start_time": "2025-10-03T09:14:43.227187",
     "status": "completed"
    },
    "tags": []
   },
   "outputs": [
    {
     "name": "stdout",
     "output_type": "stream",
     "text": [
      "{'encoding': 'windows-1250', 'language': 'English', 'confidence': 1.0}\n"
     ]
    }
   ],
   "source": [
    "# (Optional) Use this code cell for any additional work.\n",
    "with open(\"../input/fatal-police-shootings-in-the-us/PoliceKillingsUS.csv\", 'rb') as rawdata:\n",
    "    result = charset_normalizer.detect(rawdata.read(50000))\n",
    "\n",
    "print(result)"
   ]
  },
  {
   "cell_type": "code",
   "execution_count": 8,
   "id": "0be9a3bb",
   "metadata": {
    "execution": {
     "iopub.execute_input": "2025-10-03T09:14:43.709676Z",
     "iopub.status.busy": "2025-10-03T09:14:43.709377Z",
     "iopub.status.idle": "2025-10-03T09:14:43.713754Z",
     "shell.execute_reply": "2025-10-03T09:14:43.712755Z"
    },
    "papermill": {
     "duration": 0.010884,
     "end_time": "2025-10-03T09:14:43.715282",
     "exception": false,
     "start_time": "2025-10-03T09:14:43.704398",
     "status": "completed"
    },
    "tags": []
   },
   "outputs": [],
   "source": [
    "# Lines below will give you a hint or solution code\n",
    "#q2.hint()\n",
    "#q2.solution()"
   ]
  },
  {
   "cell_type": "markdown",
   "id": "32e771dd",
   "metadata": {
    "papermill": {
     "duration": 0.003811,
     "end_time": "2025-10-03T09:14:43.723343",
     "exception": false,
     "start_time": "2025-10-03T09:14:43.719532",
     "status": "completed"
    },
    "tags": []
   },
   "source": [
    "# 3) Saving your files with UTF-8 encoding\n",
    "\n",
    "Save a version of the police killings dataset to CSV with UTF-8 encoding.  Your answer will be marked correct after saving this file.  \n",
    "\n",
    "Note: When using the `to_csv()` method, supply only the name of the file (e.g., `\"my_file.csv\"`).  This saves the file at the filepath `\"/kaggle/working/my_file.csv\"`."
   ]
  },
  {
   "cell_type": "code",
   "execution_count": 9,
   "id": "f4f1ea0f",
   "metadata": {
    "execution": {
     "iopub.execute_input": "2025-10-03T09:14:43.732517Z",
     "iopub.status.busy": "2025-10-03T09:14:43.732215Z",
     "iopub.status.idle": "2025-10-03T09:14:43.774244Z",
     "shell.execute_reply": "2025-10-03T09:14:43.773360Z"
    },
    "papermill": {
     "duration": 0.048417,
     "end_time": "2025-10-03T09:14:43.775684",
     "exception": false,
     "start_time": "2025-10-03T09:14:43.727267",
     "status": "completed"
    },
    "tags": []
   },
   "outputs": [
    {
     "data": {
      "application/javascript": [
       "parent.postMessage({\"jupyterEvent\": \"custom.exercise_interaction\", \"data\": {\"outcomeType\": 1, \"valueTowardsCompletion\": 0.3333333333333333, \"interactionType\": 1, \"questionType\": 2, \"questionId\": \"3_SaveCSV\", \"learnToolsVersion\": \"0.3.5\", \"failureMessage\": \"\", \"exceptionClass\": \"\", \"trace\": \"\"}}, \"*\")"
      ],
      "text/plain": [
       "<IPython.core.display.Javascript object>"
      ]
     },
     "metadata": {},
     "output_type": "display_data"
    },
    {
     "data": {
      "text/markdown": [
       "<span style=\"color:#33cc33\">Correct</span>"
      ],
      "text/plain": [
       "Correct"
      ]
     },
     "metadata": {},
     "output_type": "display_data"
    }
   ],
   "source": [
    "# TODO: Save the police killings dataset to CSV\n",
    "police_killings.to_csv(\"pol_kills_utf8.csv\")\n",
    "\n",
    "# Check your answer\n",
    "q3.check()"
   ]
  },
  {
   "cell_type": "code",
   "execution_count": 10,
   "id": "1c22e7f2",
   "metadata": {
    "execution": {
     "iopub.execute_input": "2025-10-03T09:14:43.785595Z",
     "iopub.status.busy": "2025-10-03T09:14:43.785324Z",
     "iopub.status.idle": "2025-10-03T09:14:43.789223Z",
     "shell.execute_reply": "2025-10-03T09:14:43.788385Z"
    },
    "papermill": {
     "duration": 0.010518,
     "end_time": "2025-10-03T09:14:43.790720",
     "exception": false,
     "start_time": "2025-10-03T09:14:43.780202",
     "status": "completed"
    },
    "tags": []
   },
   "outputs": [],
   "source": [
    "# Lines below will give you a hint or solution code\n",
    "#q3.hint()\n",
    "#q3.solution()"
   ]
  },
  {
   "cell_type": "markdown",
   "id": "44796ec2",
   "metadata": {
    "papermill": {
     "duration": 0.003983,
     "end_time": "2025-10-03T09:14:43.799181",
     "exception": false,
     "start_time": "2025-10-03T09:14:43.795198",
     "status": "completed"
    },
    "tags": []
   },
   "source": [
    "# (Optional) More practice\n",
    "\n",
    "Check out [this dataset of files in different character encodings](https://www.kaggle.com/rtatman/character-encoding-examples). Can you read in all the files with their original encodings and them save them out as UTF-8 files?\n",
    "\n",
    "If you have a file that's in UTF-8 but has just a couple of weird-looking characters in it, you can try out the [ftfy module](https://ftfy.readthedocs.io/en/latest/#) and see if it helps. \n",
    "\n",
    "# Keep going\n",
    "\n",
    "In the final lesson, learn how to [**clean up inconsistent text entries**](https://www.kaggle.com/alexisbcook/inconsistent-data-entry) in your dataset."
   ]
  },
  {
   "cell_type": "markdown",
   "id": "3e293c50",
   "metadata": {
    "papermill": {
     "duration": 0.004085,
     "end_time": "2025-10-03T09:14:43.807728",
     "exception": false,
     "start_time": "2025-10-03T09:14:43.803643",
     "status": "completed"
    },
    "tags": []
   },
   "source": [
    "---\n",
    "\n",
    "\n",
    "\n",
    "\n",
    "*Have questions or comments? Visit the [course discussion forum](https://www.kaggle.com/learn/data-cleaning/discussion) to chat with other learners.*"
   ]
  }
 ],
 "metadata": {
  "kaggle": {
   "accelerator": "none",
   "dataSources": [
    {
     "datasetId": 2647,
     "sourceId": 4395,
     "sourceType": "datasetVersion"
    }
   ],
   "isGpuEnabled": false,
   "isInternetEnabled": false,
   "language": "python",
   "sourceType": "notebook"
  },
  "kernelspec": {
   "display_name": "Python 3",
   "language": "python",
   "name": "python3"
  },
  "language_info": {
   "codemirror_mode": {
    "name": "ipython",
    "version": 3
   },
   "file_extension": ".py",
   "mimetype": "text/x-python",
   "name": "python",
   "nbconvert_exporter": "python",
   "pygments_lexer": "ipython3",
   "version": "3.11.13"
  },
  "papermill": {
   "default_parameters": {},
   "duration": 9.99397,
   "end_time": "2025-10-03T09:14:44.331937",
   "environment_variables": {},
   "exception": null,
   "input_path": "__notebook__.ipynb",
   "output_path": "__notebook__.ipynb",
   "parameters": {},
   "start_time": "2025-10-03T09:14:34.337967",
   "version": "2.6.0"
  }
 },
 "nbformat": 4,
 "nbformat_minor": 5
}
